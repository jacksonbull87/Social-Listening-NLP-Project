{
 "cells": [
  {
   "cell_type": "markdown",
   "metadata": {},
   "source": [
    "## Data Collection - Selenium Script"
   ]
  },
  {
   "cell_type": "code",
   "execution_count": 36,
   "metadata": {},
   "outputs": [],
   "source": [
    "from selenium import webdriver\n",
    "from shutil import which\n",
    "from selenium.webdriver.common.keys import Keys\n",
    "from selenium.webdriver.chrome.options import Options\n",
    "from selenium.webdriver.common.by import By\n",
    "from selenium.webdriver.support.ui import WebDriverWait\n",
    "from selenium.webdriver.support import expected_conditions as EC\n",
    "from selenium.common.exceptions import StaleElementReferenceException\n",
    "from selenium.common.exceptions import NoSuchElementException\n",
    "from twitter_config import credentials\n",
    "import time  \n",
    "import pandas as pd\n",
    "\n",
    "#set path for chromedriver extension\n",
    "chrome_path = which(\"chromedriver\")\n",
    "\n",
    "driver = webdriver.Chrome(executable_path=chrome_path)\n",
    "driver.get('https://twitter.com/explore')\n",
    "driver.implicitly_wait(60)\n",
    "\n",
    "#click on search icon\n",
    "search_input = driver.find_element_by_xpath('/html/body/div/div/div/div[2]/header/div[2]/div[1]/div[1]/div/div[2]/div/div/div/form/div[1]/div/div/div[2]/input')\n",
    "search_input.send_keys('#brooklyn')\n",
    "search_input.submit()\n",
    "time.sleep(3)\n",
    "#click on the latest to start collecting the most recent tweets\n",
    "latest_btn = driver.find_element_by_xpath(\"//div[@class='css-1dbjc4n r-16y2uox r-6b64d0'][2]\")\n",
    "latest_btn.click()\n",
    "#empty list to add tweets to\n",
    "data_bucket = []\n",
    "#counter to keep track of how many tweets I've collected\n",
    "counter = 0\n",
    "\n",
    "while True:\n",
    "    last_height = driver.execute_script(\"return document.body.scrollHeight\")\n",
    "    tweets = driver.find_elements_by_xpath(\"//div[@class='css-1dbjc4n r-my5ep6 r-qklmqi r-1adg3ll']\")\n",
    "    for tweet in tweets:\n",
    "        try:\n",
    "            username = tweet.find_element_by_xpath(\"//div[@class='css-1dbjc4n r-18u37iz r-1wbh5a2 r-1f6r7vd']\").text\n",
    "            text = tweet.text\n",
    "            tweet_tuple = (username, text)\n",
    "            data_bucket.append(tweet_tuple)\n",
    "            counter += 1\n",
    "            print(counter)\n",
    "        except (StaleElementReferenceException, NoSuchElementException) as Exception:\n",
    "            continue\n",
    "        \n",
    "    driver.execute_script(\"window.scrollTo(0, {})\".format(last_height+500))\n",
    "    \n",
    "    new_height = driver.execute_script(\"return document.body.scrollHeight\")\n",
    "    if last_height == new_height:\n",
    "        break\n",
    "df = pd.DataFrame(data_bucket, columns=['username', 'tweet'])\n",
    "df"
   ]
  },
  {
   "cell_type": "code",
   "execution_count": 37,
   "metadata": {},
   "outputs": [],
   "source": []
  },
  {
   "cell_type": "code",
   "execution_count": null,
   "metadata": {},
   "outputs": [],
   "source": []
  }
 ],
 "metadata": {
  "kernelspec": {
   "display_name": "Python 3",
   "language": "python",
   "name": "python3"
  },
  "language_info": {
   "codemirror_mode": {
    "name": "ipython",
    "version": 3
   },
   "file_extension": ".py",
   "mimetype": "text/x-python",
   "name": "python",
   "nbconvert_exporter": "python",
   "pygments_lexer": "ipython3",
   "version": "3.7.4"
  },
  "toc": {
   "base_numbering": 1,
   "nav_menu": {},
   "number_sections": true,
   "sideBar": true,
   "skip_h1_title": false,
   "title_cell": "Table of Contents",
   "title_sidebar": "Contents",
   "toc_cell": false,
   "toc_position": {},
   "toc_section_display": true,
   "toc_window_display": false
  }
 },
 "nbformat": 4,
 "nbformat_minor": 2
}
