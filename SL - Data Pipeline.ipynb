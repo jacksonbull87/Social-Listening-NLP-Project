{
 "cells": [
  {
   "cell_type": "code",
   "execution_count": 95,
   "metadata": {},
   "outputs": [
    {
     "name": "stderr",
     "output_type": "stream",
     "text": [
      "[nltk_data] Downloading package wordnet to\n",
      "[nltk_data]     C:\\Users\\jacks\\AppData\\Roaming\\nltk_data...\n",
      "[nltk_data]   Package wordnet is already up-to-date!\n"
     ]
    }
   ],
   "source": [
    "#import packages\n",
    "\n",
    "import pandas as pd\n",
    "import twint\n",
    "import numpy as np\n",
    "import nltk\n",
    "from nltk.corpus import stopwords\n",
    "from nltk.stem import SnowballStemmer\n",
    "import re\n",
    "from string import punctuation\n",
    "import re\n",
    "from nltk.stem import WordNetLemmatizer\n",
    "nltk.download('wordnet')\n",
    "import seaborn as sns"
   ]
  },
  {
   "cell_type": "code",
   "execution_count": null,
   "metadata": {},
   "outputs": [],
   "source": [
    "conda install jupyter_contrib_nbextensions && jupyter contrib nbextension install"
   ]
  },
  {
   "cell_type": "markdown",
   "metadata": {},
   "source": [
    "## Get Tweet Data\n",
    "\n",
    "Before we start to analyize the data, we need a collection of tweets. So let's use Twint to scrape Twitter for all tweets that mention Billie Eilish. She will be our pilot subject that we'll use to gather data on so that we can start getting insights on her audience. Let's gather all tweets from the last year with 'billie eilish' as our search keyword."
   ]
  },
  {
   "cell_type": "code",
   "execution_count": null,
   "metadata": {},
   "outputs": [],
   "source": [
    "#need a function to scrape twitter data\n",
    "\n",
    "\n",
    "c = twint.Config()\n",
    "\n",
    "\n",
    "c.Format = \"ID {id} | Tweet {tweet}\"\n",
    "c.Search = 'billie eilish'\n",
    "c.Lang = 'en'\n",
    "c.Pandas_clean = True\n",
    "c.Since = '2019-03-31'\n",
    "c.Store_csv = True\n",
    "c.Output = 'tweets.csv'\n",
    "twint.run.Search(c)\n",
    "\n"
   ]
  },
  {
   "cell_type": "markdown",
   "metadata": {},
   "source": [
    "## Data Cleaning"
   ]
  },
  {
   "cell_type": "code",
   "execution_count": 2,
   "metadata": {},
   "outputs": [],
   "source": [
    "#lets read in the dataframe\n",
    "\n",
    "df = pd.read_csv('tweets.csv')\n"
   ]
  },
  {
   "cell_type": "code",
   "execution_count": 3,
   "metadata": {},
   "outputs": [
    {
     "data": {
      "text/plain": [
       "(14396, 34)"
      ]
     },
     "execution_count": 3,
     "metadata": {},
     "output_type": "execute_result"
    }
   ],
   "source": [
    "#how many tweets did we get?\n",
    "\n",
    "df.shape"
   ]
  },
  {
   "cell_type": "code",
   "execution_count": 4,
   "metadata": {},
   "outputs": [
    {
     "data": {
      "text/plain": [
       "id                     0\n",
       "conversation_id        0\n",
       "created_at             0\n",
       "date                   0\n",
       "time                   0\n",
       "timezone               0\n",
       "user_id                0\n",
       "username               0\n",
       "name                   0\n",
       "place              14394\n",
       "tweet                  0\n",
       "mentions               0\n",
       "urls                   0\n",
       "photos                 0\n",
       "replies_count          0\n",
       "retweets_count         0\n",
       "likes_count            0\n",
       "hashtags               0\n",
       "cashtags               0\n",
       "link                   0\n",
       "retweet                0\n",
       "quote_url          13579\n",
       "video                  0\n",
       "near               14396\n",
       "geo                14396\n",
       "source             14396\n",
       "user_rt_id         14396\n",
       "user_rt            14396\n",
       "retweet_id         14396\n",
       "reply_to               0\n",
       "retweet_date       14396\n",
       "translate          14396\n",
       "trans_src          14396\n",
       "trans_dest         14396\n",
       "dtype: int64"
      ]
     },
     "execution_count": 4,
     "metadata": {},
     "output_type": "execute_result"
    }
   ],
   "source": [
    "#let's see if there's anything missing from our dataframe and see if we can get rid of anything\n",
    "\n",
    "df.isna().sum()"
   ]
  },
  {
   "cell_type": "code",
   "execution_count": 17,
   "metadata": {},
   "outputs": [],
   "source": [
    "df.drop(['place', 'quote_url', 'near', 'geo', 'source', 'user_rt_id', 'user_rt', 'retweet_id', 'retweet_date', 'translate', \n",
    "        'trans_src', 'trans_dest'], inplace=True, axis=1)"
   ]
  },
  {
   "cell_type": "markdown",
   "metadata": {},
   "source": [
    "### Preprocess Raw Text\n",
    "\n"
   ]
  },
  {
   "cell_type": "code",
   "execution_count": 79,
   "metadata": {},
   "outputs": [],
   "source": [
    "#remove urls from tweets\n",
    "def remove_links(tweet):\n",
    "\n",
    "    result = re.sub(r\"http\\S+\", \"\", tweet)\n",
    "    result = re.sub(r\"pic.twitter\\S+\", \"\", tweet)\n",
    "    return result"
   ]
  },
  {
   "cell_type": "code",
   "execution_count": 82,
   "metadata": {},
   "outputs": [],
   "source": [
    "df['tweet'] = df['tweet'].apply(lambda x: remove_links(x))"
   ]
  },
  {
   "cell_type": "code",
   "execution_count": 83,
   "metadata": {},
   "outputs": [],
   "source": [
    "#remove numbers and stopwrds from tweets\n",
    "def preprocess(raw_text):\n",
    "\n",
    "    # keep only words\n",
    "    letters_only_text = re.sub(\"[^a-zA-Z]\", \" \", raw_text)\n",
    "\n",
    "    # convert to lower case and split \n",
    "    words = letters_only_text.lower().split()\n",
    "\n",
    "    # remove stopwords\n",
    "    stopword_set = set(stopwords.words(\"english\"))\n",
    "    meaningful_words = [w for w in words if w not in stopword_set]\n",
    "\n",
    "    # join the cleaned words in a list\n",
    "    cleaned_word_list = \" \".join(meaningful_words)\n",
    "\n",
    "    return cleaned_word_list"
   ]
  },
  {
   "cell_type": "code",
   "execution_count": 85,
   "metadata": {},
   "outputs": [],
   "source": [
    "df['clean_tweets'] = df['tweet'].apply(lambda x: preprocess(x))"
   ]
  },
  {
   "cell_type": "code",
   "execution_count": 78,
   "metadata": {},
   "outputs": [],
   "source": []
  },
  {
   "cell_type": "code",
   "execution_count": 86,
   "metadata": {},
   "outputs": [],
   "source": [
    "#create another column where the words are lemmatized\n",
    "\n",
    "lemmatizer = WordNetLemmatizer()"
   ]
  },
  {
   "cell_type": "code",
   "execution_count": 87,
   "metadata": {},
   "outputs": [],
   "source": [
    "df['lemmatized_tweets'] = df['clean_tweets'].apply(lambda x: ' '.join([lemmatizer.lemmatize(word) for word in x.split()]))"
   ]
  },
  {
   "cell_type": "code",
   "execution_count": 88,
   "metadata": {},
   "outputs": [
    {
     "data": {
      "text/plain": [
       "Index(['id', 'conversation_id', 'created_at', 'date', 'time', 'timezone',\n",
       "       'user_id', 'username', 'name', 'tweet', 'mentions', 'urls', 'photos',\n",
       "       'replies_count', 'retweets_count', 'likes_count', 'hashtags',\n",
       "       'cashtags', 'link', 'retweet', 'video', 'reply_to', 'clean_tweets',\n",
       "       'lemmatized_tweets'],\n",
       "      dtype='object')"
      ]
     },
     "execution_count": 88,
     "metadata": {},
     "output_type": "execute_result"
    }
   ],
   "source": [
    "df.columns"
   ]
  },
  {
   "cell_type": "code",
   "execution_count": 89,
   "metadata": {},
   "outputs": [
    {
     "data": {
      "text/plain": [
       "2020-03-30    7768\n",
       "2020-03-31    4365\n",
       "2020-04-01    2263\n",
       "Name: date, dtype: int64"
      ]
     },
     "execution_count": 89,
     "metadata": {},
     "output_type": "execute_result"
    }
   ],
   "source": [
    "df.date.value_counts()\n",
    "\n"
   ]
  },
  {
   "cell_type": "code",
   "execution_count": 75,
   "metadata": {},
   "outputs": [],
   "source": [
    "march_30_tweets =  df.loc[df.date == '2020-03-30']"
   ]
  },
  {
   "cell_type": "code",
   "execution_count": 90,
   "metadata": {},
   "outputs": [
    {
     "data": {
      "text/html": [
       "<div>\n",
       "<style scoped>\n",
       "    .dataframe tbody tr th:only-of-type {\n",
       "        vertical-align: middle;\n",
       "    }\n",
       "\n",
       "    .dataframe tbody tr th {\n",
       "        vertical-align: top;\n",
       "    }\n",
       "\n",
       "    .dataframe thead th {\n",
       "        text-align: right;\n",
       "    }\n",
       "</style>\n",
       "<table border=\"1\" class=\"dataframe\">\n",
       "  <thead>\n",
       "    <tr style=\"text-align: right;\">\n",
       "      <th></th>\n",
       "      <th>id</th>\n",
       "      <th>conversation_id</th>\n",
       "      <th>created_at</th>\n",
       "      <th>date</th>\n",
       "      <th>time</th>\n",
       "      <th>timezone</th>\n",
       "      <th>user_id</th>\n",
       "      <th>username</th>\n",
       "      <th>name</th>\n",
       "      <th>tweet</th>\n",
       "      <th>...</th>\n",
       "      <th>retweets_count</th>\n",
       "      <th>likes_count</th>\n",
       "      <th>hashtags</th>\n",
       "      <th>cashtags</th>\n",
       "      <th>link</th>\n",
       "      <th>retweet</th>\n",
       "      <th>video</th>\n",
       "      <th>reply_to</th>\n",
       "      <th>clean_tweets</th>\n",
       "      <th>lemmatized_tweets</th>\n",
       "    </tr>\n",
       "  </thead>\n",
       "  <tbody>\n",
       "    <tr>\n",
       "      <td>0</td>\n",
       "      <td>1245424152267325444</td>\n",
       "      <td>1245424152267325444</td>\n",
       "      <td>1585767231000</td>\n",
       "      <td>2020-04-01</td>\n",
       "      <td>14:53:51</td>\n",
       "      <td>Eastern Daylight Time</td>\n",
       "      <td>1080312985799802880</td>\n",
       "      <td>365mercy</td>\n",
       "      <td>365MercyReworks</td>\n",
       "      <td>#158: Rez Fail- when mercy tries to Rez and sh...</td>\n",
       "      <td>...</td>\n",
       "      <td>0</td>\n",
       "      <td>0</td>\n",
       "      <td>[]</td>\n",
       "      <td>[]</td>\n",
       "      <td>https://twitter.com/365Mercy/status/1245424152...</td>\n",
       "      <td>False</td>\n",
       "      <td>0</td>\n",
       "      <td>[{'user_id': '1080312985799802880', 'username'...</td>\n",
       "      <td>rez fail mercy tries rez killed everything wan...</td>\n",
       "      <td>rez fail mercy try rez killed everything wante...</td>\n",
       "    </tr>\n",
       "    <tr>\n",
       "      <td>1</td>\n",
       "      <td>1245424109808320518</td>\n",
       "      <td>1244837980205973506</td>\n",
       "      <td>1585767221000</td>\n",
       "      <td>2020-04-01</td>\n",
       "      <td>14:53:41</td>\n",
       "      <td>Eastern Daylight Time</td>\n",
       "      <td>262983998</td>\n",
       "      <td>silveeah007</td>\n",
       "      <td>007</td>\n",
       "      <td>THIS! Has made my day! Gracias!!! 🥔🍠🍟</td>\n",
       "      <td>...</td>\n",
       "      <td>0</td>\n",
       "      <td>0</td>\n",
       "      <td>[]</td>\n",
       "      <td>[]</td>\n",
       "      <td>https://twitter.com/silveeah007/status/1245424...</td>\n",
       "      <td>False</td>\n",
       "      <td>0</td>\n",
       "      <td>[{'user_id': '262983998', 'username': 'silveea...</td>\n",
       "      <td>made day gracias</td>\n",
       "      <td>made day gracias</td>\n",
       "    </tr>\n",
       "    <tr>\n",
       "      <td>2</td>\n",
       "      <td>1245424061997613056</td>\n",
       "      <td>1245424061997613056</td>\n",
       "      <td>1585767209000</td>\n",
       "      <td>2020-04-01</td>\n",
       "      <td>14:53:29</td>\n",
       "      <td>Eastern Daylight Time</td>\n",
       "      <td>1188077010817634307</td>\n",
       "      <td>vkookimochi</td>\n",
       "      <td>BTS⁷ ²⁰¹³🇦🇿🇹🇷</td>\n",
       "      <td>Billie Eilish &amp; Khalid-lovely 🎧👌</td>\n",
       "      <td>...</td>\n",
       "      <td>0</td>\n",
       "      <td>0</td>\n",
       "      <td>[]</td>\n",
       "      <td>[]</td>\n",
       "      <td>https://twitter.com/vkookimochi/status/1245424...</td>\n",
       "      <td>False</td>\n",
       "      <td>0</td>\n",
       "      <td>[{'user_id': '1188077010817634307', 'username'...</td>\n",
       "      <td>billie eilish khalid lovely</td>\n",
       "      <td>billie eilish khalid lovely</td>\n",
       "    </tr>\n",
       "    <tr>\n",
       "      <td>3</td>\n",
       "      <td>1245423906082697217</td>\n",
       "      <td>1245423906082697217</td>\n",
       "      <td>1585767172000</td>\n",
       "      <td>2020-04-01</td>\n",
       "      <td>14:52:52</td>\n",
       "      <td>Eastern Daylight Time</td>\n",
       "      <td>775521728910856192</td>\n",
       "      <td>celtra</td>\n",
       "      <td>Celtra</td>\n",
       "      <td>Do you guys an artist that you listen to and n...</td>\n",
       "      <td>...</td>\n",
       "      <td>0</td>\n",
       "      <td>1</td>\n",
       "      <td>[]</td>\n",
       "      <td>[]</td>\n",
       "      <td>https://twitter.com/Celtra/status/124542390608...</td>\n",
       "      <td>False</td>\n",
       "      <td>0</td>\n",
       "      <td>[{'user_id': '775521728910856192', 'username':...</td>\n",
       "      <td>guys artist listen one would think would liste...</td>\n",
       "      <td>guy artist listen one would think would listen...</td>\n",
       "    </tr>\n",
       "    <tr>\n",
       "      <td>4</td>\n",
       "      <td>1245423842488655873</td>\n",
       "      <td>1245423517916631042</td>\n",
       "      <td>1585767157000</td>\n",
       "      <td>2020-04-01</td>\n",
       "      <td>14:52:37</td>\n",
       "      <td>Eastern Daylight Time</td>\n",
       "      <td>209775766</td>\n",
       "      <td>iamd_handycandy</td>\n",
       "      <td>Money Vs People</td>\n",
       "      <td>What the fuck is Billie Eilish</td>\n",
       "      <td>...</td>\n",
       "      <td>1</td>\n",
       "      <td>0</td>\n",
       "      <td>[]</td>\n",
       "      <td>[]</td>\n",
       "      <td>https://twitter.com/IamD_Handycandy/status/124...</td>\n",
       "      <td>False</td>\n",
       "      <td>0</td>\n",
       "      <td>[{'user_id': '209775766', 'username': 'IamD_Ha...</td>\n",
       "      <td>fuck billie eilish</td>\n",
       "      <td>fuck billie eilish</td>\n",
       "    </tr>\n",
       "    <tr>\n",
       "      <td>...</td>\n",
       "      <td>...</td>\n",
       "      <td>...</td>\n",
       "      <td>...</td>\n",
       "      <td>...</td>\n",
       "      <td>...</td>\n",
       "      <td>...</td>\n",
       "      <td>...</td>\n",
       "      <td>...</td>\n",
       "      <td>...</td>\n",
       "      <td>...</td>\n",
       "      <td>...</td>\n",
       "      <td>...</td>\n",
       "      <td>...</td>\n",
       "      <td>...</td>\n",
       "      <td>...</td>\n",
       "      <td>...</td>\n",
       "      <td>...</td>\n",
       "      <td>...</td>\n",
       "      <td>...</td>\n",
       "      <td>...</td>\n",
       "      <td>...</td>\n",
       "    </tr>\n",
       "    <tr>\n",
       "      <td>14391</td>\n",
       "      <td>1244475710535688192</td>\n",
       "      <td>1244475710535688192</td>\n",
       "      <td>1585541105000</td>\n",
       "      <td>2020-03-30</td>\n",
       "      <td>00:05:05</td>\n",
       "      <td>Eastern Daylight Time</td>\n",
       "      <td>1244082575208886274</td>\n",
       "      <td>heathersebesty1</td>\n",
       "      <td>Heather Sebestyen</td>\n",
       "      <td>@billieeilish hi Billy heather from boise\\nIda...</td>\n",
       "      <td>...</td>\n",
       "      <td>0</td>\n",
       "      <td>0</td>\n",
       "      <td>[]</td>\n",
       "      <td>[]</td>\n",
       "      <td>https://twitter.com/HeatherSebesty1/status/124...</td>\n",
       "      <td>False</td>\n",
       "      <td>0</td>\n",
       "      <td>[{'user_id': '1244082575208886274', 'username'...</td>\n",
       "      <td>billieeilish hi billy heather boise idaho abso...</td>\n",
       "      <td>billieeilish hi billy heather boise idaho abso...</td>\n",
       "    </tr>\n",
       "    <tr>\n",
       "      <td>14392</td>\n",
       "      <td>1244475685965447173</td>\n",
       "      <td>1244475685965447173</td>\n",
       "      <td>1585541099000</td>\n",
       "      <td>2020-03-30</td>\n",
       "      <td>00:04:59</td>\n",
       "      <td>Eastern Daylight Time</td>\n",
       "      <td>861602371259908096</td>\n",
       "      <td>alvino2315</td>\n",
       "      <td>Alvino</td>\n",
       "      <td>Billie Eilish , Khalid - lovely</td>\n",
       "      <td>...</td>\n",
       "      <td>0</td>\n",
       "      <td>1</td>\n",
       "      <td>[]</td>\n",
       "      <td>[]</td>\n",
       "      <td>https://twitter.com/Alvino2315/status/12444756...</td>\n",
       "      <td>False</td>\n",
       "      <td>1</td>\n",
       "      <td>[{'user_id': '861602371259908096', 'username':...</td>\n",
       "      <td>billie eilish khalid lovely</td>\n",
       "      <td>billie eilish khalid lovely</td>\n",
       "    </tr>\n",
       "    <tr>\n",
       "      <td>14393</td>\n",
       "      <td>1244475605401219073</td>\n",
       "      <td>1244475605401219073</td>\n",
       "      <td>1585541080000</td>\n",
       "      <td>2020-03-30</td>\n",
       "      <td>00:04:40</td>\n",
       "      <td>Eastern Daylight Time</td>\n",
       "      <td>475577737</td>\n",
       "      <td>yayahhhhhhhhhh</td>\n",
       "      <td>.</td>\n",
       "      <td>WFH while listening to Billie Eilish is anothe...</td>\n",
       "      <td>...</td>\n",
       "      <td>0</td>\n",
       "      <td>0</td>\n",
       "      <td>[]</td>\n",
       "      <td>[]</td>\n",
       "      <td>https://twitter.com/yayahhhhhhhhhh/status/1244...</td>\n",
       "      <td>False</td>\n",
       "      <td>0</td>\n",
       "      <td>[{'user_id': '475577737', 'username': 'yayahhh...</td>\n",
       "      <td>wfh listening billie eilish another level calm...</td>\n",
       "      <td>wfh listening billie eilish another level calm...</td>\n",
       "    </tr>\n",
       "    <tr>\n",
       "      <td>14394</td>\n",
       "      <td>1244475600615636997</td>\n",
       "      <td>1244358922334593024</td>\n",
       "      <td>1585541079000</td>\n",
       "      <td>2020-03-30</td>\n",
       "      <td>00:04:39</td>\n",
       "      <td>Eastern Daylight Time</td>\n",
       "      <td>1233466963172544512</td>\n",
       "      <td>fmaferlu</td>\n",
       "      <td>@Friends_maferlu</td>\n",
       "      <td>Billie Eilish: Fool me once, fool me twice\\nAr...</td>\n",
       "      <td>...</td>\n",
       "      <td>0</td>\n",
       "      <td>0</td>\n",
       "      <td>[]</td>\n",
       "      <td>[]</td>\n",
       "      <td>https://twitter.com/FMaferlu/status/1244475600...</td>\n",
       "      <td>False</td>\n",
       "      <td>0</td>\n",
       "      <td>[{'user_id': '1233466963172544512', 'username'...</td>\n",
       "      <td>billie eilish fool fool twice death paradise n...</td>\n",
       "      <td>billie eilish fool fool twice death paradise n...</td>\n",
       "    </tr>\n",
       "    <tr>\n",
       "      <td>14395</td>\n",
       "      <td>1244475353470586880</td>\n",
       "      <td>1244472316760854529</td>\n",
       "      <td>1585541020000</td>\n",
       "      <td>2020-03-30</td>\n",
       "      <td>00:03:40</td>\n",
       "      <td>Eastern Daylight Time</td>\n",
       "      <td>1198282510934986753</td>\n",
       "      <td>lisalz2</td>\n",
       "      <td>lisa 🦋 ......................camila &amp; shawn</td>\n",
       "      <td>Love it ! 😍</td>\n",
       "      <td>...</td>\n",
       "      <td>0</td>\n",
       "      <td>10</td>\n",
       "      <td>[]</td>\n",
       "      <td>[]</td>\n",
       "      <td>https://twitter.com/lisalz2/status/12444753534...</td>\n",
       "      <td>False</td>\n",
       "      <td>0</td>\n",
       "      <td>[{'user_id': '1198282510934986753', 'username'...</td>\n",
       "      <td>love</td>\n",
       "      <td>love</td>\n",
       "    </tr>\n",
       "  </tbody>\n",
       "</table>\n",
       "<p>14396 rows × 24 columns</p>\n",
       "</div>"
      ],
      "text/plain": [
       "                        id      conversation_id     created_at        date  \\\n",
       "0      1245424152267325444  1245424152267325444  1585767231000  2020-04-01   \n",
       "1      1245424109808320518  1244837980205973506  1585767221000  2020-04-01   \n",
       "2      1245424061997613056  1245424061997613056  1585767209000  2020-04-01   \n",
       "3      1245423906082697217  1245423906082697217  1585767172000  2020-04-01   \n",
       "4      1245423842488655873  1245423517916631042  1585767157000  2020-04-01   \n",
       "...                    ...                  ...            ...         ...   \n",
       "14391  1244475710535688192  1244475710535688192  1585541105000  2020-03-30   \n",
       "14392  1244475685965447173  1244475685965447173  1585541099000  2020-03-30   \n",
       "14393  1244475605401219073  1244475605401219073  1585541080000  2020-03-30   \n",
       "14394  1244475600615636997  1244358922334593024  1585541079000  2020-03-30   \n",
       "14395  1244475353470586880  1244472316760854529  1585541020000  2020-03-30   \n",
       "\n",
       "           time               timezone              user_id         username  \\\n",
       "0      14:53:51  Eastern Daylight Time  1080312985799802880         365mercy   \n",
       "1      14:53:41  Eastern Daylight Time            262983998      silveeah007   \n",
       "2      14:53:29  Eastern Daylight Time  1188077010817634307      vkookimochi   \n",
       "3      14:52:52  Eastern Daylight Time   775521728910856192           celtra   \n",
       "4      14:52:37  Eastern Daylight Time            209775766  iamd_handycandy   \n",
       "...         ...                    ...                  ...              ...   \n",
       "14391  00:05:05  Eastern Daylight Time  1244082575208886274  heathersebesty1   \n",
       "14392  00:04:59  Eastern Daylight Time   861602371259908096       alvino2315   \n",
       "14393  00:04:40  Eastern Daylight Time            475577737   yayahhhhhhhhhh   \n",
       "14394  00:04:39  Eastern Daylight Time  1233466963172544512         fmaferlu   \n",
       "14395  00:03:40  Eastern Daylight Time  1198282510934986753          lisalz2   \n",
       "\n",
       "                                              name  \\\n",
       "0                                  365MercyReworks   \n",
       "1                                              007   \n",
       "2                                    BTS⁷ ²⁰¹³🇦🇿🇹🇷   \n",
       "3                                           Celtra   \n",
       "4                                  Money Vs People   \n",
       "...                                            ...   \n",
       "14391                            Heather Sebestyen   \n",
       "14392                                       Alvino   \n",
       "14393                                            .   \n",
       "14394                             @Friends_maferlu   \n",
       "14395  lisa 🦋 ......................camila & shawn   \n",
       "\n",
       "                                                   tweet  ... retweets_count  \\\n",
       "0      #158: Rez Fail- when mercy tries to Rez and sh...  ...              0   \n",
       "1                  THIS! Has made my day! Gracias!!! 🥔🍠🍟  ...              0   \n",
       "2                       Billie Eilish & Khalid-lovely 🎧👌  ...              0   \n",
       "3      Do you guys an artist that you listen to and n...  ...              0   \n",
       "4                         What the fuck is Billie Eilish  ...              1   \n",
       "...                                                  ...  ...            ...   \n",
       "14391  @billieeilish hi Billy heather from boise\\nIda...  ...              0   \n",
       "14392                  Billie Eilish , Khalid - lovely    ...              0   \n",
       "14393  WFH while listening to Billie Eilish is anothe...  ...              0   \n",
       "14394  Billie Eilish: Fool me once, fool me twice\\nAr...  ...              0   \n",
       "14395                                        Love it ! 😍  ...              0   \n",
       "\n",
       "      likes_count hashtags  cashtags  \\\n",
       "0               0       []        []   \n",
       "1               0       []        []   \n",
       "2               0       []        []   \n",
       "3               1       []        []   \n",
       "4               0       []        []   \n",
       "...           ...      ...       ...   \n",
       "14391           0       []        []   \n",
       "14392           1       []        []   \n",
       "14393           0       []        []   \n",
       "14394           0       []        []   \n",
       "14395          10       []        []   \n",
       "\n",
       "                                                    link  retweet video  \\\n",
       "0      https://twitter.com/365Mercy/status/1245424152...    False     0   \n",
       "1      https://twitter.com/silveeah007/status/1245424...    False     0   \n",
       "2      https://twitter.com/vkookimochi/status/1245424...    False     0   \n",
       "3      https://twitter.com/Celtra/status/124542390608...    False     0   \n",
       "4      https://twitter.com/IamD_Handycandy/status/124...    False     0   \n",
       "...                                                  ...      ...   ...   \n",
       "14391  https://twitter.com/HeatherSebesty1/status/124...    False     0   \n",
       "14392  https://twitter.com/Alvino2315/status/12444756...    False     1   \n",
       "14393  https://twitter.com/yayahhhhhhhhhh/status/1244...    False     0   \n",
       "14394  https://twitter.com/FMaferlu/status/1244475600...    False     0   \n",
       "14395  https://twitter.com/lisalz2/status/12444753534...    False     0   \n",
       "\n",
       "                                                reply_to  \\\n",
       "0      [{'user_id': '1080312985799802880', 'username'...   \n",
       "1      [{'user_id': '262983998', 'username': 'silveea...   \n",
       "2      [{'user_id': '1188077010817634307', 'username'...   \n",
       "3      [{'user_id': '775521728910856192', 'username':...   \n",
       "4      [{'user_id': '209775766', 'username': 'IamD_Ha...   \n",
       "...                                                  ...   \n",
       "14391  [{'user_id': '1244082575208886274', 'username'...   \n",
       "14392  [{'user_id': '861602371259908096', 'username':...   \n",
       "14393  [{'user_id': '475577737', 'username': 'yayahhh...   \n",
       "14394  [{'user_id': '1233466963172544512', 'username'...   \n",
       "14395  [{'user_id': '1198282510934986753', 'username'...   \n",
       "\n",
       "                                            clean_tweets  \\\n",
       "0      rez fail mercy tries rez killed everything wan...   \n",
       "1                                       made day gracias   \n",
       "2                            billie eilish khalid lovely   \n",
       "3      guys artist listen one would think would liste...   \n",
       "4                                     fuck billie eilish   \n",
       "...                                                  ...   \n",
       "14391  billieeilish hi billy heather boise idaho abso...   \n",
       "14392                        billie eilish khalid lovely   \n",
       "14393  wfh listening billie eilish another level calm...   \n",
       "14394  billie eilish fool fool twice death paradise n...   \n",
       "14395                                               love   \n",
       "\n",
       "                                       lemmatized_tweets  \n",
       "0      rez fail mercy try rez killed everything wante...  \n",
       "1                                       made day gracias  \n",
       "2                            billie eilish khalid lovely  \n",
       "3      guy artist listen one would think would listen...  \n",
       "4                                     fuck billie eilish  \n",
       "...                                                  ...  \n",
       "14391  billieeilish hi billy heather boise idaho abso...  \n",
       "14392                        billie eilish khalid lovely  \n",
       "14393  wfh listening billie eilish another level calm...  \n",
       "14394  billie eilish fool fool twice death paradise n...  \n",
       "14395                                               love  \n",
       "\n",
       "[14396 rows x 24 columns]"
      ]
     },
     "execution_count": 90,
     "metadata": {},
     "output_type": "execute_result"
    }
   ],
   "source": [
    "df"
   ]
  },
  {
   "cell_type": "markdown",
   "metadata": {},
   "source": [
    "### Save Cleaned data"
   ]
  },
  {
   "cell_type": "code",
   "execution_count": 100,
   "metadata": {},
   "outputs": [],
   "source": [
    "clean_df = df.to_csv('clean_billie_tweets.csv')"
   ]
  },
  {
   "cell_type": "markdown",
   "metadata": {},
   "source": [
    "## EDA"
   ]
  },
  {
   "cell_type": "markdown",
   "metadata": {},
   "source": [
    "### Open clean dataframe"
   ]
  },
  {
   "cell_type": "code",
   "execution_count": 104,
   "metadata": {},
   "outputs": [],
   "source": [
    "clean_df = pd.read_csv('clean_billie_tweets.csv', index_col=0)\n"
   ]
  },
  {
   "cell_type": "code",
   "execution_count": 105,
   "metadata": {},
   "outputs": [],
   "source": [
    "#let's explore the distribution of tweets by date\n",
    "\n",
    "tweets_by_date = clean_df.groupby('date')['tweet'].count().reset_index()"
   ]
  },
  {
   "cell_type": "code",
   "execution_count": 106,
   "metadata": {},
   "outputs": [
    {
     "data": {
      "text/plain": [
       "<matplotlib.axes._subplots.AxesSubplot at 0x2176eddc588>"
      ]
     },
     "execution_count": 106,
     "metadata": {},
     "output_type": "execute_result"
    },
    {
     "data": {
      "image/png": "[encoded data removed]",
      "text/plain": [
       "<Figure size 432x288 with 1 Axes>"
      ]
     },
     "metadata": {
      "needs_background": "light"
     },
     "output_type": "display_data"
    }
   ],
   "source": [
    "sns.barplot(data=tweets_by_date, x='date', y='tweet')"
   ]
  },
  {
   "cell_type": "code",
   "execution_count": null,
   "metadata": {},
   "outputs": [],
   "source": []
  },
  {
   "cell_type": "code",
   "execution_count": null,
   "metadata": {},
   "outputs": [],
   "source": []
  }
 ],
 "metadata": {
  "kernelspec": {
   "display_name": "Python 3",
   "language": "python",
   "name": "python3"
  },
  "language_info": {
   "codemirror_mode": {
    "name": "ipython",
    "version": 3
   },
   "file_extension": ".py",
   "mimetype": "text/x-python",
   "name": "python",
   "nbconvert_exporter": "python",
   "pygments_lexer": "ipython3",
   "version": "3.7.4"
  },
  "toc": {
   "base_numbering": 1,
   "nav_menu": {},
   "number_sections": true,
   "sideBar": true,
   "skip_h1_title": false,
   "title_cell": "Table of Contents",
   "title_sidebar": "Contents",
   "toc_cell": false,
   "toc_position": {
    "height": "calc(100% - 180px)",
    "left": "10px",
    "top": "150px",
    "width": "289.6px"
   },
   "toc_section_display": true,
   "toc_window_display": true
  }
 },
 "nbformat": 4,
 "nbformat_minor": 2
}
